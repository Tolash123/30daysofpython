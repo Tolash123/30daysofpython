{
 "cells": [
  {
   "cell_type": "code",
   "execution_count": 6,
   "metadata": {},
   "outputs": [
    {
     "name": "stdout",
     "output_type": "stream",
     "text": [
      "[ 1  2  3  4  5  6  7  8  9 10]\n",
      "1\n",
      "[1 5 7]\n",
      "[ 1  2  3  4  5  6  7  8  9 10]\n",
      "[1 2 3]\n",
      "[1 3 5 7 9]\n",
      "[1 3 5 7 9]\n",
      "[ 1  4  7 10]\n"
     ]
    }
   ],
   "source": [
    "# Indexing 1-D arrays\n",
    "import numpy as np\n",
    "a = np.arange(1,11)\n",
    "print(a)\n",
    "print(a[0])\n",
    "print(a[[0,4,6]]) #prints 0th,4th and 6th\n",
    "print(a[0:])\n",
    "print(a[:3])\n",
    "print(a[0:10:2])\n",
    "print(a[0::2])\n",
    "print(a[0:10:3])"
   ]
  },
  {
   "cell_type": "code",
   "execution_count": 14,
   "metadata": {},
   "outputs": [
    {
     "name": "stdout",
     "output_type": "stream",
     "text": [
      "[[1 2 3]\n",
      " [4 5 6]\n",
      " [7 8 9]]\n",
      "[1 2 3]\n",
      "2\n",
      "[4 5 6]\n",
      "4\n",
      "3\n"
     ]
    }
   ],
   "source": [
    "# Indexing  multi-Dimensional\n",
    "a = np.array([[1,2,3],[4,5,6],[7,8,9]])\n",
    "print(a)\n",
    "print(a[0])\n",
    "print(a[0,1])\n",
    "print(a[1])\n",
    "print(a[1,0])\n",
    "print(a[0,2])"
   ]
  }
 ],
 "metadata": {
  "kernelspec": {
   "display_name": "Python 3",
   "language": "python",
   "name": "python3"
  },
  "language_info": {
   "codemirror_mode": {
    "name": "ipython",
    "version": 3
   },
   "file_extension": ".py",
   "mimetype": "text/x-python",
   "name": "python",
   "nbconvert_exporter": "python",
   "pygments_lexer": "ipython3",
   "version": "3.9.2"
  },
  "orig_nbformat": 4
 },
 "nbformat": 4,
 "nbformat_minor": 2
}
