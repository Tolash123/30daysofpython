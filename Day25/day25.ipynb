{
 "cells": [
  {
   "cell_type": "code",
   "execution_count": 1,
   "metadata": {},
   "outputs": [
    {
     "data": {
      "text/plain": [
       "'1.26.2'"
      ]
     },
     "execution_count": 1,
     "metadata": {},
     "output_type": "execute_result"
    }
   ],
   "source": [
    "# Importing a numpy\n",
    "import numpy as np\n",
    "np.__version__"
   ]
  },
  {
   "cell_type": "markdown",
   "metadata": {},
   "source": [
    "- Difference between a list and a array?\n",
    "- - The elements in a list are of different datatypes.\n",
    "- - The elements in a array must be of same datatypes."
   ]
  },
  {
   "cell_type": "code",
   "execution_count": 2,
   "metadata": {},
   "outputs": [
    {
     "name": "stdout",
     "output_type": "stream",
     "text": [
      "<class 'numpy.ndarray'>\n",
      "[1 2 3 4 5 6 7]\n"
     ]
    }
   ],
   "source": [
    "# Creating 1-dimensional array\n",
    "a = np.array([1,2,3,4,5,6,7])\n",
    "print(type(a))\n",
    "print(a)"
   ]
  },
  {
   "cell_type": "markdown",
   "metadata": {},
   "source": [
    "##### Basic Methods\n",
    "- a.shape------->Gives number of elements in form of tuple as (rows, columns)\n",
    "- np.size(a)-------->Gives total number of elements in an array\n",
    "- len(a)------------>Gives no of rows in an array.\n",
    "- a.ndim------------>Gives dimension of an array\n",
    "- a.dtype----------->Gives datatype"
   ]
  },
  {
   "cell_type": "code",
   "execution_count": 3,
   "metadata": {},
   "outputs": [
    {
     "name": "stdout",
     "output_type": "stream",
     "text": [
      "(6,)\n",
      "6\n",
      "1\n",
      "6\n",
      "int64\n"
     ]
    }
   ],
   "source": [
    "a = np.array([1,2,3,4,5,6])\n",
    "print(a.shape)\n",
    "print(np.size(a))\n",
    "print(a.ndim)\n",
    "print(len(a))\n",
    "print(a.dtype)"
   ]
  },
  {
   "cell_type": "code",
   "execution_count": 4,
   "metadata": {},
   "outputs": [
    {
     "name": "stdout",
     "output_type": "stream",
     "text": [
      "[[ 1  2  3  4]\n",
      " [ 5  6  7  8]\n",
      " [ 9 10 11 12]]\n",
      "int64\n"
     ]
    }
   ],
   "source": [
    "# Creating 2-Dimensional arrays\n",
    "b = np.array([[1,2,3,4],[5,6,7,8],[9,10,11,12]])\n",
    "print(b)\n",
    "print(b.dtype)"
   ]
  },
  {
   "cell_type": "code",
   "execution_count": 5,
   "metadata": {},
   "outputs": [
    {
     "name": "stdout",
     "output_type": "stream",
     "text": [
      "[['a' 'b' 'c']\n",
      " ['d' 'e' 'f']\n",
      " ['g' 'h' 'i']\n",
      " ['j' 'k' 'l']]\n",
      "<class 'numpy.ndarray'>\n",
      "(4, 3)\n",
      "2\n",
      "4\n",
      "12\n",
      "<U1\n"
     ]
    }
   ],
   "source": [
    "c = np.array([['a','b','c'],['d','e','f'],['g','h','i'],['j','k','l']])\n",
    "print(c)\n",
    "print(type(c))\n",
    "print(c.shape)\n",
    "print(c.ndim)\n",
    "print(len(c))\n",
    "print(np.size(c))\n",
    "print(c.dtype)"
   ]
  },
  {
   "cell_type": "code",
   "execution_count": 6,
   "metadata": {},
   "outputs": [
    {
     "name": "stdout",
     "output_type": "stream",
     "text": [
      "[[[ 0  1  2  3]\n",
      "  [ 4  5  6  7]\n",
      "  [ 8  9 10 11]]\n",
      "\n",
      " [[12 13 14 15]\n",
      "  [16 17 18 19]\n",
      "  [20 21 22 23]]]\n"
     ]
    }
   ],
   "source": [
    "# Creating 3-Dimensional arrays\n",
    "a = np.arange(24).reshape(2,3,4)\n",
    "\n",
    "#'4' is no. of inner elements\n",
    "#'3' is no. of rows(inner)\n",
    "#'2' is no. of rows(outer) \n",
    "\n",
    "print(a)"
   ]
  },
  {
   "cell_type": "code",
   "execution_count": 8,
   "metadata": {},
   "outputs": [
    {
     "name": "stdout",
     "output_type": "stream",
     "text": [
      "[0 1 2 3 4 5 6 7 8 9]\n",
      "<class 'numpy.ndarray'>\n",
      "(10,)\n",
      "10\n",
      "1\n",
      "10\n",
      "int64\n"
     ]
    }
   ],
   "source": [
    "# Creating 1-D array using arange()\n",
    "x = np.arange(10)\n",
    "print(x)\n",
    "print(type(x))\n",
    "print(x.shape)\n",
    "print(np.size(x))\n",
    "print(x.ndim)\n",
    "print(len(x))\n",
    "print(x.dtype)"
   ]
  },
  {
   "cell_type": "code",
   "execution_count": 13,
   "metadata": {},
   "outputs": [
    {
     "name": "stdout",
     "output_type": "stream",
     "text": [
      "[0 1 2 3 4 5 6 7 8 9]\n",
      "1\n",
      "[[0 1 2 3 4]\n",
      " [5 6 7 8 9]]\n"
     ]
    }
   ],
   "source": [
    "# reshape()\n",
    "# it is used to change dimension of an array\n",
    "x = np.arange(10)\n",
    "print(x)\n",
    "print(x.ndim)\n",
    "print(x.reshape(2,5))\n"
   ]
  },
  {
   "cell_type": "markdown",
   "metadata": {},
   "source": [
    "- Note:\n",
    "- -  for 2-Dimension(row,column)\n",
    "For 2-D arrays:\n",
    "axis = 0 refers to rows\n",
    "axis = 1 refers to columns\n",
    "- -  for 3-Dimension(outer row, inner row, column)"
   ]
  },
  {
   "cell_type": "code",
   "execution_count": 17,
   "metadata": {},
   "outputs": [
    {
     "name": "stdout",
     "output_type": "stream",
     "text": [
      "[[ 1  2  3  4]\n",
      " [ 5  6  7  8]\n",
      " [ 9 10 11 12]]\n"
     ]
    }
   ],
   "source": [
    "z = np.arange(1,13).reshape(3,4) # 2 operations can be done\n",
    "print(z)\n"
   ]
  },
  {
   "cell_type": "code",
   "execution_count": 18,
   "metadata": {},
   "outputs": [
    {
     "data": {
      "text/plain": [
       "78"
      ]
     },
     "execution_count": 18,
     "metadata": {},
     "output_type": "execute_result"
    }
   ],
   "source": [
    "# To return sum of z\n",
    "z.sum() # returns sum of all elements"
   ]
  },
  {
   "cell_type": "code",
   "execution_count": 21,
   "metadata": {},
   "outputs": [
    {
     "data": {
      "text/plain": [
       "array([15, 18, 21, 24])"
      ]
     },
     "execution_count": 21,
     "metadata": {},
     "output_type": "execute_result"
    }
   ],
   "source": [
    "# To get sum of elements row wise \"axis = 0\"\n",
    "np.sum(z,axis=0)\n",
    "z.sum(0)\n",
    "z.sum(axis=0)\n",
    "\n",
    "#Note: returns same outputs"
   ]
  },
  {
   "cell_type": "code",
   "execution_count": 23,
   "metadata": {},
   "outputs": [
    {
     "data": {
      "text/plain": [
       "array([10, 26, 42])"
      ]
     },
     "execution_count": 23,
     "metadata": {},
     "output_type": "execute_result"
    }
   ],
   "source": [
    "# To get sum of elements column wise \"axis = 1\"\n",
    "np.sum(z,axis=1)\n",
    "z.sum(1)\n",
    "z.sum(axis=1)\n",
    "\n",
    "#Note: returns same outputs"
   ]
  },
  {
   "cell_type": "code",
   "execution_count": 24,
   "metadata": {},
   "outputs": [
    {
     "name": "stdout",
     "output_type": "stream",
     "text": [
      "[1 2 3 4]\n",
      "[1 2 3 4]\n"
     ]
    }
   ],
   "source": [
    "# Initialization of arrays\n",
    "a = np.array([1,2,3,4])\n",
    "b = np.array([1,2,3,4])\n",
    "print(a)\n",
    "print(b)"
   ]
  },
  {
   "cell_type": "markdown",
   "metadata": {},
   "source": [
    "#### Built-in Methods\n",
    "- np.ones()-->Gives an array contains element '1'.By default 'float' type\n",
    "- np.zeros()->Gives an array contains element '0'.By default 'float' type\n",
    "- np.linspace()-->By default 'float' type.\n",
    "- np.random.random()-->Creates random elements. By default 'float'\n",
    "- np.arange()---------->By default 'int' type.\n",
    "- np.full()-->Creates constant array of any number. Default 'int' type\n",
    "- np.tile()-->Repeats array in sequence. By default 'int' type\n",
    "- np.eye()--->Gives Identity matrix. By default 'float' type\n",
    "- np.randint()--->Gives random array with specified range.By default 'int'"
   ]
  },
  {
   "cell_type": "code",
   "execution_count": 25,
   "metadata": {},
   "outputs": [
    {
     "name": "stdout",
     "output_type": "stream",
     "text": [
      "[[1 1 1 1]\n",
      " [1 1 1 1]\n",
      " [1 1 1 1]]\n"
     ]
    }
   ],
   "source": [
    "# np.ones()\n",
    "a=np.ones((3,4), dtype = int)\n",
    "print(a)"
   ]
  },
  {
   "cell_type": "code",
   "execution_count": 26,
   "metadata": {},
   "outputs": [
    {
     "name": "stdout",
     "output_type": "stream",
     "text": [
      "[[1. 1. 1. 1.]\n",
      " [1. 1. 1. 1.]\n",
      " [1. 1. 1. 1.]]\n"
     ]
    }
   ],
   "source": [
    "a=np.ones((3,4))\n",
    "print(a)"
   ]
  },
  {
   "cell_type": "code",
   "execution_count": 28,
   "metadata": {},
   "outputs": [
    {
     "name": "stdout",
     "output_type": "stream",
     "text": [
      "[[ True  True  True]\n",
      " [ True  True  True]\n",
      " [ True  True  True]\n",
      " [ True  True  True]]\n"
     ]
    }
   ],
   "source": [
    "a = np.ones((4,3), dtype=bool)\n",
    "print(a)"
   ]
  },
  {
   "cell_type": "code",
   "execution_count": 30,
   "metadata": {},
   "outputs": [
    {
     "name": "stdout",
     "output_type": "stream",
     "text": [
      "[0 0 0 0 0 0]\n",
      "[[0 0 0]\n",
      " [0 0 0]\n",
      " [0 0 0]\n",
      " [0 0 0]\n",
      " [0 0 0]\n",
      " [0 0 0]]\n"
     ]
    }
   ],
   "source": [
    "# np.zeros()\n",
    "a = np.zeros([6,], dtype= int)\n",
    "b = np.zeros([6,3], dtype= int)\n",
    "print(a)\n",
    "print(b)"
   ]
  },
  {
   "cell_type": "code",
   "execution_count": 32,
   "metadata": {},
   "outputs": [
    {
     "name": "stdout",
     "output_type": "stream",
     "text": [
      "[[0. 0. 0. 0. 0. 0.]\n",
      " [0. 0. 0. 0. 0. 0.]\n",
      " [0. 0. 0. 0. 0. 0.]]\n"
     ]
    }
   ],
   "source": [
    "a = np.zeros([3,6])\n",
    "print(a)"
   ]
  },
  {
   "cell_type": "code",
   "execution_count": 34,
   "metadata": {},
   "outputs": [
    {
     "name": "stdout",
     "output_type": "stream",
     "text": [
      "[[False False False False False False]\n",
      " [False False False False False False]\n",
      " [False False False False False False]]\n"
     ]
    }
   ],
   "source": [
    "a = np.zeros([3,6], dtype= bool)\n",
    "print(a)"
   ]
  },
  {
   "cell_type": "code",
   "execution_count": 35,
   "metadata": {},
   "outputs": [
    {
     "name": "stdout",
     "output_type": "stream",
     "text": [
      "[[0.16983797 0.72757708 0.40269535 0.3523853 ]\n",
      " [0.13442923 0.27589916 0.34578713 0.61999116]\n",
      " [0.5427436  0.16271176 0.96316176 0.11826241]]\n"
     ]
    }
   ],
   "source": [
    "# np.random()\n",
    "a = np.random.random((3,4)) # prints random numbers\n",
    "print(a)"
   ]
  },
  {
   "cell_type": "code",
   "execution_count": 36,
   "metadata": {},
   "outputs": [
    {
     "name": "stdout",
     "output_type": "stream",
     "text": [
      "[[0.89514666 0.47520036 0.75258063 0.01672179]\n",
      " [0.33727059 0.01319955 0.46711533 0.58168719]\n",
      " [0.06296868 0.46320765 0.2682539  0.86167595]\n",
      " [0.8076822  0.06947087 0.98233389 0.81162099]]\n"
     ]
    }
   ],
   "source": [
    "a = np.random.random((4,4)) # prints random numbers\n",
    "print(a)"
   ]
  },
  {
   "cell_type": "code",
   "execution_count": 38,
   "metadata": {},
   "outputs": [
    {
     "name": "stdout",
     "output_type": "stream",
     "text": [
      "[3 3 4 5 6]\n",
      "[1 1 2 2 3 3 4]\n"
     ]
    }
   ],
   "source": [
    "#np.linspace()\n",
    "a = np.linspace(3,6,5, dtype=int)\n",
    "#'3' & '6' is range of elements.\n",
    "# '5' is number of elements\n",
    "print(a)\n",
    "\n",
    "b = np.linspace(1,4,7, dtype=int)\n",
    "print(b)"
   ]
  },
  {
   "cell_type": "code",
   "execution_count": 40,
   "metadata": {},
   "outputs": [
    {
     "name": "stdout",
     "output_type": "stream",
     "text": [
      "[ 1  2  3  4  5  6  7  8  9 10 11 12]\n",
      "[ 1.  2.  3.  4.  5.  6.  7.  8.  9. 10. 11. 12.]\n"
     ]
    }
   ],
   "source": [
    "# np.arange()\n",
    "a = np.arange(1,13)\n",
    "print(a)\n",
    "b = np.arange(1,13, dtype=float)\n",
    "print(b)"
   ]
  },
  {
   "cell_type": "code",
   "execution_count": 41,
   "metadata": {},
   "outputs": [
    {
     "name": "stdout",
     "output_type": "stream",
     "text": [
      "[[8 8 8 8]\n",
      " [8 8 8 8]\n",
      " [8 8 8 8]]\n"
     ]
    }
   ],
   "source": [
    "# np.full()\n",
    "a =  np.full((3,4),8)\n",
    "# (3,4) is (row,columns) & '8' is constant number\n",
    "print(a)"
   ]
  },
  {
   "cell_type": "code",
   "execution_count": 44,
   "metadata": {},
   "outputs": [
    {
     "name": "stdout",
     "output_type": "stream",
     "text": [
      "[[8. 8. 8. 8.]\n",
      " [8. 8. 8. 8.]\n",
      " [8. 8. 8. 8.]]\n",
      "[['a' 'a' 'a' 'a']\n",
      " ['a' 'a' 'a' 'a']\n",
      " ['a' 'a' 'a' 'a']]\n"
     ]
    }
   ],
   "source": [
    "a = np.full((3,4),'8', dtype=float)\n",
    "# (3,4) is (row,columns) & 'a' is constant variable\n",
    "print(a)\n",
    "b = np.full((3,4),'a')\n",
    "print(b)"
   ]
  },
  {
   "cell_type": "code",
   "execution_count": 48,
   "metadata": {},
   "outputs": [
    {
     "name": "stdout",
     "output_type": "stream",
     "text": [
      "[1 2 3 1 2 3 1 2 3 1 2 3]\n",
      "[[1 2 3 1 2 3]\n",
      " [1 2 3 1 2 3]\n",
      " [1 2 3 1 2 3]]\n"
     ]
    }
   ],
   "source": [
    "# n.tile()\n",
    "a = np.array([1,2,3])\n",
    "print(np.tile(a,4))\n",
    "\n",
    "a = np.array([1,2,3])\n",
    "print(np.tile(a,(3,2)))\n",
    "#'a' is array.In (3,2) '3' is row size. '2' is repeating twice"
   ]
  },
  {
   "cell_type": "code",
   "execution_count": 49,
   "metadata": {},
   "outputs": [
    {
     "name": "stdout",
     "output_type": "stream",
     "text": [
      "[[1 2 3 1 2 3]\n",
      " [4 5 6 4 5 6]]\n"
     ]
    }
   ],
   "source": [
    "a = np.arange(1,7)\n",
    "b = a.reshape(2,3)\n",
    "c = np.tile(b,2)\n",
    "print(c)"
   ]
  },
  {
   "cell_type": "code",
   "execution_count": 57,
   "metadata": {},
   "outputs": [
    {
     "name": "stdout",
     "output_type": "stream",
     "text": [
      "[[1. 0. 0.]\n",
      " [0. 1. 0.]\n",
      " [0. 0. 1.]]\n",
      "\n",
      "[[1 0 0 0]\n",
      " [0 1 0 0]\n",
      " [0 0 1 0]\n",
      " [0 0 0 1]]\n"
     ]
    }
   ],
   "source": [
    "# np.eye()\n",
    "a = np.eye(3)\n",
    "print(a)\n",
    "print()\n",
    "b = np.eye(4, dtype=int)\n",
    "print(b)"
   ]
  },
  {
   "cell_type": "code",
   "execution_count": 56,
   "metadata": {},
   "outputs": [
    {
     "name": "stdout",
     "output_type": "stream",
     "text": [
      "[[1 5 3]\n",
      " [5 1 1]\n",
      " [5 3 3]]\n",
      "\n",
      "[[1 4 7 6]\n",
      " [6 3 8 3]\n",
      " [2 4 8 8]\n",
      " [5 2 2 7]]\n"
     ]
    }
   ],
   "source": [
    "# np.randint()\n",
    "\n",
    "a = np.random.randint(1,6,(3,3))\n",
    "print(a)\n",
    "print()\n",
    "b = np.random.randint(1,9,(4,4))\n",
    "print(b)"
   ]
  },
  {
   "cell_type": "markdown",
   "metadata": {},
   "source": [
    "- Difference b/w randint & random is:\n",
    "- - random gives in b/w range of '0' & '1'. By default 'float'\n",
    "- - randint gives any range of elements. By default 'int'"
   ]
  }
 ],
 "metadata": {
  "kernelspec": {
   "display_name": "Python 3",
   "language": "python",
   "name": "python3"
  },
  "language_info": {
   "codemirror_mode": {
    "name": "ipython",
    "version": 3
   },
   "file_extension": ".py",
   "mimetype": "text/x-python",
   "name": "python",
   "nbconvert_exporter": "python",
   "pygments_lexer": "ipython3",
   "version": "3.9.2"
  },
  "orig_nbformat": 4
 },
 "nbformat": 4,
 "nbformat_minor": 2
}
