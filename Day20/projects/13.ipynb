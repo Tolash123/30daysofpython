{
 "cells": [
  {
   "cell_type": "markdown",
   "metadata": {},
   "source": [
    "Create your own to do list manager. (This can be super useful!)\n",
    "\n",
    "Ask the user whether they want to view, add, or edit their to do list.\n",
    "If they want to view it, print it out in a nice way (Hint: subroutine).\n",
    "If they choose to add an item to the to do list, allow them to type in the item and then add it to the bottom of the list.\n",
    "If they want to edit the to do list, ask them which item they completed, and remove it from the list.\n",
    "Don't worry about duplicates!\n",
    "The first item you put in the list should be the first item you remove.\n",
    "Add a title, some color, alignment to the text, or emojis. Show off your skills!"
   ]
  },
  {
   "cell_type": "code",
   "execution_count": null,
   "metadata": {},
   "outputs": [],
   "source": [
    "# https://raw.githubusercontent.com/justmarkham/DAT8/master/data/chipotle.tsv"
   ]
  },
  {
   "cell_type": "code",
   "execution_count": 2,
   "metadata": {},
   "outputs": [
    {
     "name": "stdout",
     "output_type": "stream",
     "text": [
      " == TODO list App == \n",
      "\n",
      "learning\n",
      "booking\n"
     ]
    }
   ],
   "source": [
    "print(\"\"\" == TODO list App == \"\"\")\n",
    "import random\n",
    "\n",
    "greeting =['Ekaro','Hola','Zdravstvuyte','Nǐn hǎo','Salve','Namaste','Shalom','Shikamoo','Bonjour']\n",
    "num = random.randint(0,8)\n",
    "print(greeting[num])\n",
    "my_list =[]\n",
    "def todo():\n",
    "    print()\n",
    "    while True:\n",
    "        todo_list = input('Do you want to view, add or edit: ')\n",
    "        if todo_list == 'view':\n",
    "            for item in my_list:\n",
    "                print(item)\n",
    "            else:\n",
    "                pass\n",
    "        elif todo_list == 'add':\n",
    "            add = input('Add to your todo app: ')\n",
    "            my_list.append(add)\n",
    "        elif todo_list == 'edit':\n",
    "            my_list.remove(todo_list)\n",
    "todo()\n",
    "\n",
    "\n"
   ]
  }
 ],
 "metadata": {
  "kernelspec": {
   "display_name": "Python 3",
   "language": "python",
   "name": "python3"
  },
  "language_info": {
   "codemirror_mode": {
    "name": "ipython",
    "version": 3
   },
   "file_extension": ".py",
   "mimetype": "text/x-python",
   "name": "python",
   "nbconvert_exporter": "python",
   "pygments_lexer": "ipython3",
   "version": "3.9.2"
  },
  "orig_nbformat": 4
 },
 "nbformat": 4,
 "nbformat_minor": 2
}
