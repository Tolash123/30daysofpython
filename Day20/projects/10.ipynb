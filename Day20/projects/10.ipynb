{
 "cells": [
  {
   "cell_type": "markdown",
   "metadata": {},
   "source": [
    "Fun\n",
    "\n",
    "This works better on .py files"
   ]
  },
  {
   "cell_type": "code",
   "execution_count": null,
   "metadata": {},
   "outputs": [],
   "source": [
    "# Fun\n",
    "import os\n",
    "\n",
    "for i in range(1, 101):\n",
    "  print(i)\n",
    "  os.system(\"clear\")\n"
   ]
  },
  {
   "cell_type": "code",
   "execution_count": null,
   "metadata": {},
   "outputs": [],
   "source": [
    "import os, time\n",
    "\n",
    "for i in range(1, 101):\n",
    "  print(i)\n",
    "  time.sleep(0.5)\n",
    "  os.system(\"clear\")"
   ]
  },
  {
   "cell_type": "code",
   "execution_count": null,
   "metadata": {},
   "outputs": [],
   "source": [
    "# Adding cursor\n",
    "import os, time\n",
    "print('\\033[?25l', end=\"\")\n",
    "for i in range(1, 101):\n",
    "  print(i)\n",
    "  time.sleep(0.2)\n",
    "  os.system(\"clear\")"
   ]
  },
  {
   "cell_type": "code",
   "execution_count": 7,
   "metadata": {},
   "outputs": [
    {
     "name": "stdout",
     "output_type": "stream",
     "text": [
      "\u001b[33m Super Subroutine\n",
      "\u001b[36m Life of a city boy\n"
     ]
    }
   ],
   "source": [
    "# colour\n",
    "def colour():\n",
    "    print('\\033[33m','Super Subroutine')\n",
    "    print('\\033[36m', 'Life of a city boy')\n",
    "colour()\n"
   ]
  },
  {
   "cell_type": "markdown",
   "metadata": {},
   "source": []
  }
 ],
 "metadata": {
  "kernelspec": {
   "display_name": "Python 3",
   "language": "python",
   "name": "python3"
  },
  "language_info": {
   "codemirror_mode": {
    "name": "ipython",
    "version": 3
   },
   "file_extension": ".py",
   "mimetype": "text/x-python",
   "name": "python",
   "nbconvert_exporter": "python",
   "pygments_lexer": "ipython3",
   "version": "3.9.2"
  },
  "orig_nbformat": 4
 },
 "nbformat": 4,
 "nbformat_minor": 2
}
