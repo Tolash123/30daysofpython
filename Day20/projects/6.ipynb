{
 "cells": [
  {
   "cell_type": "code",
   "execution_count": null,
   "metadata": {},
   "outputs": [],
   "source": [
    "# Challenge('Name the lyrics) \n",
    "print('Fill in the blank lyrics!')\n",
    "print()\n",
    "print('Never going to ---- you up.')\n",
    "count = 0\n",
    "while True:\n",
    "    n = input('Type in the blank lyric: ')\n",
    "    if n == 'give':\n",
    "        print('Well done')\n",
    "        break\n",
    "    elif n=='gat':\n",
    "        print('Try again')\n",
    "        count = count+1\n",
    "    elif n=='fed':\n",
    "        print('Try again')\n",
    "        count = count+1\n",
    "    elif n=='get':\n",
    "        print('Try again')\n",
    "        count = count+1\n",
    "    elif n=='gave':\n",
    "        print('Try again')\n",
    "        count = count+1\n",
    "        continue\n",
    "    else:\n",
    "        print('Nope, try again!')\n",
    "        exit()\n",
    "print('It only took you', count,'attempts')\n"
   ]
  },
  {
   "cell_type": "code",
   "execution_count": null,
   "metadata": {},
   "outputs": [],
   "source": [
    "# multiplayer game\n",
    "from getpass import getpass as input\n",
    "score1 = 0\n",
    "score2 = 0\n",
    "while True:\n",
    "  player1 = input('Enter R,P,S:')\n",
    "  player2 = input('Enter R,P,S:')\n",
    "  if player1 == player2:\n",
    "      print('Draw')\n",
    "      break\n",
    "  elif player1 == 'R' and player2 == 'S':  \n",
    "      print('Player 1 wins')\n",
    "      score1=score1+1\n",
    "  elif player1 == 'S' and player2 == 'R':\n",
    "      print('Player 2 wins')\n",
    "      score2 = score2 +1\n",
    "  elif player1 == 'P' and player2 == 'R':\n",
    "      print('Player 1 wins')\n",
    "      score1 = score2+1\n",
    "  elif player1 == 'R' and player2 == 'P':\n",
    "      print('Player 2 wins')\n",
    "      score2=score2+1\n",
    "  elif player1 == 'S' and player2 == 'P':\n",
    "      print('Player 1 wins')\n",
    "      score1= score1+1\n",
    "  elif player1 == 'P' and player2 == 'S':\n",
    "      print('Player 2 wins')\n",
    "      score2=score2+1\n",
    "      continue\n",
    "  else:\n",
    "    print('The game is over')\n",
    "    exit()\n",
    "    \n",
    "print('player1:', score1, 'player2:', score2)"
   ]
  },
  {
   "cell_type": "code",
   "execution_count": 12,
   "metadata": {},
   "outputs": [
    {
     "name": "stdout",
     "output_type": "stream",
     "text": [
      "Too low\n",
      "Too low\n",
      "Too high\n",
      "Too high\n",
      "Too low\n",
      "You are a genius\n"
     ]
    }
   ],
   "source": [
    "# Number guessing\n",
    "while True:\n",
    "  guess = int(input('Guess the number:'))\n",
    "  if guess == 42:\n",
    "    print('You are a genius')\n",
    "    break\n",
    "  elif guess > 42:\n",
    "    print('Too high')\n",
    "  elif guess <= 41:\n",
    "    print('Too low')\n",
    "    continue\n",
    "  else:\n",
    "    print('Finally')\n",
    "    exit()"
   ]
  },
  {
   "cell_type": "markdown",
   "metadata": {},
   "source": [
    "Create a loan calculator that shows how much money you owe for a loan of $1,000 with a 5% APR (APR is fancy for Annual Percentage Rate) over 10 years. This means each year the amount of money you owe will increase 5%. Figure out how much you owe altogether for 10 years?"
   ]
  },
  {
   "cell_type": "code",
   "execution_count": 13,
   "metadata": {},
   "outputs": [
    {
     "name": "stdout",
     "output_type": "stream",
     "text": [
      "0.05\n",
      "50.0\n",
      "The amount increment each year:  $ 50.0\n",
      "The amount increment each year:  $ 100.0\n",
      "The amount increment each year:  $ 150.0\n",
      "The amount increment each year:  $ 200.0\n",
      "The amount increment each year:  $ 250.0\n",
      "The amount increment each year:  $ 300.0\n",
      "The amount increment each year:  $ 350.0\n",
      "The amount increment each year:  $ 400.0\n",
      "The amount increment each year:  $ 450.0\n",
      "The amount increment each year:  $ 500.0\n"
     ]
    }
   ],
   "source": [
    "amount = 1000\n",
    "apr = 5/100\n",
    "d = apr\n",
    "print(d)\n",
    "cal = amount * apr\n",
    "print(cal)\n",
    "for i in range(1,11):\n",
    "    print('The amount increment each year: ','$',i*amount*apr)"
   ]
  },
  {
   "cell_type": "code",
   "execution_count": 17,
   "metadata": {},
   "outputs": [
    {
     "name": "stdout",
     "output_type": "stream",
     "text": [
      "Multiplication Table thirteen\n",
      "\n",
      "1 x 13 = 13\n",
      "2 x 13 = 26\n",
      "3 x 13 = 39\n",
      "4 x 13 = 52\n",
      "5 x 13 = 65\n",
      "6 x 13 = 78\n",
      "7 x 13 = 91\n",
      "8 x 13 = 104\n",
      "9 x 13 = 117\n",
      "10 x 13 = 130\n",
      "11 x 13 = 143\n",
      "12 x 13 = 156\n"
     ]
    }
   ],
   "source": [
    "print('Multiplication Table thirteen')\n",
    "print()\n",
    "for i in range(1,13):\n",
    "    print(i, 'x 13 =', i*13)"
   ]
  },
  {
   "cell_type": "code",
   "execution_count": null,
   "metadata": {},
   "outputs": [],
   "source": [
    "print(\"\"\"--- List Generator ---\"\"\")\n",
    "start = int(input('Enter a number to start with: '))\n",
    "end = int(input('Enter a number to end with: '))\n",
    "increment = int(input('Enter an increment for start and end: '))\n",
    "for i in range(start,end,increment):\n",
    "    print(i)"
   ]
  }
 ],
 "metadata": {
  "kernelspec": {
   "display_name": "Python 3",
   "language": "python",
   "name": "python3"
  },
  "language_info": {
   "codemirror_mode": {
    "name": "ipython",
    "version": 3
   },
   "file_extension": ".py",
   "mimetype": "text/x-python",
   "name": "python",
   "nbconvert_exporter": "python",
   "pygments_lexer": "ipython3",
   "version": "3.9.2"
  },
  "orig_nbformat": 4
 },
 "nbformat": 4,
 "nbformat_minor": 2
}
