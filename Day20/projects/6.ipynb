{
 "cells": [
  {
   "cell_type": "markdown",
   "metadata": {},
   "source": [
    "Challenge('Name the lyrics) "
   ]
  },
  {
   "cell_type": "code",
   "execution_count": null,
   "metadata": {},
   "outputs": [],
   "source": [
    "print('Fill in the blank lyrics!')\n",
    "print()\n",
    "print('Never going to ---- you up.')\n",
    "count = 0\n",
    "while True:\n",
    "    n = input('Type in the blank lyric: ')\n",
    "    if n == 'give':\n",
    "        print('Well done')\n",
    "        break\n",
    "    elif n=='gat':\n",
    "        print('Try again')\n",
    "        count = count+1\n",
    "    elif n=='fed':\n",
    "        print('Try again')\n",
    "        count = count+1\n",
    "    elif n=='get':\n",
    "        print('Try again')\n",
    "        count = count+1\n",
    "    elif n=='gave':\n",
    "        print('Try again')\n",
    "        count = count+1\n",
    "        continue\n",
    "    else:\n",
    "        print('Nope, try again!')\n",
    "        exit()\n",
    "print('It only took you', count,'attempts')\n"
   ]
  },
  {
   "cell_type": "markdown",
   "metadata": {},
   "source": [
    "Multiplayer game"
   ]
  },
  {
   "cell_type": "code",
   "execution_count": null,
   "metadata": {},
   "outputs": [],
   "source": [
    "from getpass import getpass as input\n",
    "score1 = 0\n",
    "score2 = 0\n",
    "while True:\n",
    "  player1 = input('Enter R,P,S:')\n",
    "  player2 = input('Enter R,P,S:')\n",
    "  if player1 == player2:\n",
    "      print('Draw')\n",
    "      break\n",
    "  elif player1 == 'R' and player2 == 'S':  \n",
    "      print('Player 1 wins')\n",
    "      score1=score1+1\n",
    "  elif player1 == 'S' and player2 == 'R':\n",
    "      print('Player 2 wins')\n",
    "      score2 = score2 +1\n",
    "  elif player1 == 'P' and player2 == 'R':\n",
    "      print('Player 1 wins')\n",
    "      score1 = score2+1\n",
    "  elif player1 == 'R' and player2 == 'P':\n",
    "      print('Player 2 wins')\n",
    "      score2=score2+1\n",
    "  elif player1 == 'S' and player2 == 'P':\n",
    "      print('Player 1 wins')\n",
    "      score1= score1+1\n",
    "  elif player1 == 'P' and player2 == 'S':\n",
    "      print('Player 2 wins')\n",
    "      score2=score2+1\n",
    "      continue\n",
    "  else:\n",
    "    print('The game is over')\n",
    "    exit()\n",
    "    \n",
    "print('player1:', score1, 'player2:', score2)"
   ]
  },
  {
   "cell_type": "markdown",
   "metadata": {},
   "source": [
    "Number guessing 1"
   ]
  },
  {
   "cell_type": "code",
   "execution_count": null,
   "metadata": {},
   "outputs": [],
   "source": [
    "while True:\n",
    "  guess = int(input('Guess the number:'))\n",
    "  if guess == 42:\n",
    "    print('You are a genius')\n",
    "    break\n",
    "  elif guess > 42:\n",
    "    print('Too high')\n",
    "  elif guess <= 41:\n",
    "    print('Too low')\n",
    "    continue\n",
    "  else:\n",
    "    print('Finally')\n",
    "    exit()"
   ]
  },
  {
   "cell_type": "markdown",
   "metadata": {},
   "source": [
    "Create a loan calculator that shows how much money you owe for a loan of $1,000 with a 5% APR (APR is fancy for Annual Percentage Rate) over 10 years. This means each year the amount of money you owe will increase 5%. Figure out how much you owe altogether for 10 years?"
   ]
  },
  {
   "cell_type": "code",
   "execution_count": 13,
   "metadata": {},
   "outputs": [
    {
     "name": "stdout",
     "output_type": "stream",
     "text": [
      "0.05\n",
      "50.0\n",
      "The amount increment each year:  $ 50.0\n",
      "The amount increment each year:  $ 100.0\n",
      "The amount increment each year:  $ 150.0\n",
      "The amount increment each year:  $ 200.0\n",
      "The amount increment each year:  $ 250.0\n",
      "The amount increment each year:  $ 300.0\n",
      "The amount increment each year:  $ 350.0\n",
      "The amount increment each year:  $ 400.0\n",
      "The amount increment each year:  $ 450.0\n",
      "The amount increment each year:  $ 500.0\n"
     ]
    }
   ],
   "source": [
    "amount = 1000\n",
    "apr = 5/100\n",
    "d = apr\n",
    "print(d)\n",
    "cal = amount * apr\n",
    "print(cal)\n",
    "for i in range(1,11):\n",
    "    print('The amount increment each year: ','$',i*amount*apr)"
   ]
  },
  {
   "cell_type": "code",
   "execution_count": 17,
   "metadata": {},
   "outputs": [
    {
     "name": "stdout",
     "output_type": "stream",
     "text": [
      "Multiplication Table thirteen\n",
      "\n",
      "1 x 13 = 13\n",
      "2 x 13 = 26\n",
      "3 x 13 = 39\n",
      "4 x 13 = 52\n",
      "5 x 13 = 65\n",
      "6 x 13 = 78\n",
      "7 x 13 = 91\n",
      "8 x 13 = 104\n",
      "9 x 13 = 117\n",
      "10 x 13 = 130\n",
      "11 x 13 = 143\n",
      "12 x 13 = 156\n"
     ]
    }
   ],
   "source": [
    "print('Multiplication Table thirteen')\n",
    "print()\n",
    "for i in range(1,13):\n",
    "    print(i, 'x 13 =', i*13)"
   ]
  },
  {
   "cell_type": "code",
   "execution_count": 3,
   "metadata": {},
   "outputs": [
    {
     "name": "stdout",
     "output_type": "stream",
     "text": [
      "--- List Generator ---\n"
     ]
    },
    {
     "name": "stdout",
     "output_type": "stream",
     "text": [
      "100\n",
      "250\n",
      "400\n",
      "550\n",
      "700\n",
      "850\n",
      "1000\n",
      "1150\n",
      "1300\n",
      "1450\n",
      "1600\n",
      "1750\n",
      "1900\n"
     ]
    }
   ],
   "source": [
    "print(\"\"\"--- List Generator ---\"\"\")\n",
    "start = int(input('Enter a number to start with: '))\n",
    "end = int(input('Enter a number to end with: '))\n",
    "increment = int(input('Enter an increment for start and end: '))\n",
    "for i in range(start,end,increment):\n",
    "    print(i)"
   ]
  },
  {
   "cell_type": "markdown",
   "metadata": {},
   "source": [
    "#### Math Game\n",
    "\n",
    "Test your family and friends on their math knowlege\n"
   ]
  },
  {
   "cell_type": "code",
   "execution_count": null,
   "metadata": {},
   "outputs": [],
   "source": [
    "print(\"\"\"---Math Game---\"\"\")\n",
    "print()\n",
    "print('Welcome to the world of mathematics \\n Test your math knowledge')\n",
    "count = 0\n",
    "n = int(input('What is the sum of 25 and 30: '))\n",
    "if n == 55:\n",
    "    print('Correct', n)\n",
    "    count = count +1\n",
    "else:\n",
    "    print('Wrong!')\n",
    "    count = count\n",
    "    pass\n",
    "m = int(input('What is the square root of 64: '))\n",
    "if m == 8:\n",
    "    print('Correct!')\n",
    "    count = count+1\n",
    "else:\n",
    "    print('wrong answer')\n",
    "    count = count\n",
    "a = int(input('What is the product of 25 and 30: '))\n",
    "if a == 750:\n",
    "    print('Correct')\n",
    "    count = count +1\n",
    "else:\n",
    "    print('Wrong!')\n",
    "    count = count\n",
    "    pass\n",
    "b = int(input('What is the LCM of 12 and 24: '))\n",
    "if b == 24:\n",
    "    print('Correct!')\n",
    "    count = count+1\n",
    "else:\n",
    "    print('wrong answer')\n",
    "    count = count\n",
    "c = int(input('What is the sum of 200 and 1000: '))\n",
    "if c == 1200:\n",
    "    print('Correct')\n",
    "    count = count +1\n",
    "else:\n",
    "    print('Wrong!')\n",
    "    count = count\n",
    "    pass\n",
    "d = int(input('What is the square root of 400: '))\n",
    "if d == 20:\n",
    "    print('Correct!')\n",
    "    count = count+1\n",
    "else:\n",
    "    print('wrong answer')\n",
    "    count = count\n",
    "e = int(input('subtract 55 from 100: '))\n",
    "if e == 45:\n",
    "    print('Correct')\n",
    "    count = count +1\n",
    "else:\n",
    "    print('Wrong!')\n",
    "    count = count\n",
    "    pass\n",
    "f = int(input('What is 10 square: '))\n",
    "if f == 100:\n",
    "    print('Correct!')\n",
    "    count = count+1\n",
    "else:\n",
    "    print('wrong answer')\n",
    "    count = count\n",
    "g = int(input('What is the answer 13*13: '))\n",
    "if g == 169:\n",
    "    print('Correct')\n",
    "    count = count +1\n",
    "else:\n",
    "    print('Wrong!')\n",
    "    count = count\n",
    "    pass\n",
    "h = int(input('What is the H.C.F of 2 and 4: '))\n",
    "if h == 2:\n",
    "    print('Correct!')\n",
    "    count = count+1\n",
    "else:\n",
    "    print('wrong answer')\n",
    "    count = count\n",
    "print('Your score is: ', count, 'out of 10')"
   ]
  },
  {
   "cell_type": "markdown",
   "metadata": {},
   "source": [
    "Number guessing 2"
   ]
  },
  {
   "cell_type": "code",
   "execution_count": null,
   "metadata": {},
   "outputs": [],
   "source": [
    "import random\n",
    "\n",
    "attempt = 1\n",
    "print('Totally Random One-Million-to-One')\n",
    "number = random.randint(1,1000000)\n",
    "while True:\n",
    "  guess = int(input('What is your guess:'))\n",
    "  if guess == number:\n",
    "    print('You are a genius')\n",
    "    break\n",
    "  elif guess > number:\n",
    "    print('Too high')\n",
    "    attempt = attempt + 1\n",
    "  elif guess < number:\n",
    "    print('Too low')\n",
    "    attempt = attempt + 1\n",
    "    continue\n",
    "  else:\n",
    "    print('Finally')\n",
    "    exit()\n",
    "\n",
    "print('It took you', attempt, 'guesses to get the number correct.')\n",
    "print('You are a genius!')\n",
    "\n",
    "# Note: you can play around with the code"
   ]
  },
  {
   "cell_type": "markdown",
   "metadata": {},
   "source": [
    "Login system"
   ]
  },
  {
   "cell_type": "code",
   "execution_count": 2,
   "metadata": {},
   "outputs": [
    {
     "name": "stdout",
     "output_type": "stream",
     "text": [
      " -- Dristol Login System --- \n",
      "\n",
      "Welcome David!\n",
      "Whoops! I don't recognize that username or password. Try again!\n",
      "Welcome David\n",
      "Welcome to Dristol college!\n"
     ]
    }
   ],
   "source": [
    "print(\"\"\" -- Dristol Login System --- \"\"\")\n",
    "print()\n",
    "print('Welcome David!')\n",
    "def login():\n",
    "    while True:\n",
    "        name = input('What is your username?: ')\n",
    "        password = input('What is your password?: ')\n",
    "        if name == 'David' and password =='davidclinton':\n",
    "           print('Welcome to Dristol college!')\n",
    "           break\n",
    "        else:\n",
    "           print(\"Whoops! I don't recognize that username or password. Try again!\")\n",
    "           continue\n",
    "        \n",
    "login()\n",
    "        "
   ]
  },
  {
   "cell_type": "markdown",
   "metadata": {},
   "source": [
    "Infinity Dice 🎲🎲🎲🎲"
   ]
  },
  {
   "cell_type": "code",
   "execution_count": null,
   "metadata": {},
   "outputs": [],
   "source": [
    "import random\n",
    "def rollDice():\n",
    "    while True:\n",
    "        roll = int(input('How many sides 🎲?: '))\n",
    "        num = random.randint(1,roll)\n",
    "        print('You rolled', num)\n",
    "        break\n",
    "    name = input('Roll again 🎲?: ')\n",
    "    if name == 'yes':\n",
    "        rollDice()\n",
    "    else:\n",
    "        pass\n",
    "\n",
    "    \n",
    "rollDice()"
   ]
  },
  {
   "cell_type": "markdown",
   "metadata": {},
   "source": [
    "Pin Generator "
   ]
  },
  {
   "cell_type": "code",
   "execution_count": null,
   "metadata": {},
   "outputs": [],
   "source": [
    "\n",
    "def newPin():\n",
    "    import random\n",
    "    while True:\n",
    "        pin = ''\n",
    "        n = int(input('4 or 5?: '))\n",
    "        for i in range(n):\n",
    "          pin += str(random.randint(0,9))\n",
    "        print(pin)\n",
    "        break\n",
    "    new= input('Do you wish to generate a new pin?: ')\n",
    "    if new == 'yes':\n",
    "        return newPin()\n",
    "    else:\n",
    "        pass\n",
    "newPin()"
   ]
  },
  {
   "cell_type": "markdown",
   "metadata": {},
   "source": [
    "Health Stats Generator for a character in a video game"
   ]
  },
  {
   "cell_type": "code",
   "execution_count": null,
   "metadata": {},
   "outputs": [],
   "source": [
    "import random\n",
    "print(\"\"\" ⚔️ Character Stats Generator ⚔️ \"\"\")\n",
    "def csG():\n",
    "  while True:\n",
    "    name = input('Name you warrior ⚔️ ⚔️ ⚔️ : ')\n",
    "    num = random.randint(1,50)\n",
    "    print('Their health is: ', num,'hp')\n",
    "    break\n",
    "  n = input('Do you want to continue?: ')\n",
    "  if n == 'yes':\n",
    "    return csG()\n",
    "csG()"
   ]
  },
  {
   "cell_type": "code",
   "execution_count": null,
   "metadata": {},
   "outputs": [],
   "source": [
    "import random\n",
    "import os,time\n",
    "print('Character Builder')\n",
    "time.sleep(4)\n",
    "os.system('clear')\n",
    "def builder():\n",
    "    name = input('Name Your Legend: ')\n",
    "    chr = input('Character Type (Human, Elf, Wiard, Orc): ')\n",
    "    print('character: ', name ) \n",
    "    print('Type: ', chr )  \n",
    "def health_stat():\n",
    "    health = random.randint(1,6)*12/2 +10\n",
    "    return health\n",
    "\n",
    "def strength_stat():\n",
    "    strength = random.randint(1,6)*12/2 +12\n",
    "    return strength\n",
    "\n",
    "builder()\n",
    "def character():\n",
    "    print('Character Summary') \n",
    "    print('-------------------------')\n",
    "    print('Health:', health_stat())\n",
    "    print('Strength:', strength_stat())\n",
    "    print('Dexterity: 10')\n",
    "    print('Intelligence: 10')\n",
    "    print('Constitution: 10')\n",
    "    print('Charisma: 10')\n",
    "    print('May your name go down in Legend...')\n",
    "\n",
    "character()\n",
    "while True:\n",
    "    def new_character():\n",
    "         ask = input('Do you want to create another character?: ')\n",
    "         if ask == 'yes':\n",
    "          return builder(), health_stat(),strength_stat,character()\n",
    "         else:\n",
    "            pass\n",
    "         exit()\n",
    "\n",
    "    new_character()\n"
   ]
  }
 ],
 "metadata": {
  "kernelspec": {
   "display_name": "Python 3",
   "language": "python",
   "name": "python3"
  },
  "language_info": {
   "codemirror_mode": {
    "name": "ipython",
    "version": 3
   },
   "file_extension": ".py",
   "mimetype": "text/x-python",
   "name": "python",
   "nbconvert_exporter": "python",
   "pygments_lexer": "ipython3",
   "version": "3.9.2"
  },
  "orig_nbformat": 4
 },
 "nbformat": 4,
 "nbformat_minor": 2
}
