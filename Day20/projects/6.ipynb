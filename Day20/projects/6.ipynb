{
 "cells": [
  {
   "cell_type": "code",
   "execution_count": 6,
   "metadata": {},
   "outputs": [
    {
     "name": "stdout",
     "output_type": "stream",
     "text": [
      "Fill in the blank lyrics!\n",
      "Never going to ---- you up.\n",
      "Well done\n",
      "It only took you 4 attempts\n"
     ]
    }
   ],
   "source": [
    "# Challenge('Name the lyrics) # To be revisited\n",
    "while True:\n",
    "    count = 0\n",
    "    print('Fill in the blank lyrics!')\n",
    "    print('Never going to ---- you up.')\n",
    "    n = input('Type in the blank lyric: ')\n",
    "    if n == 'give':\n",
    "        print('Well done')\n",
    "        for i in n:\n",
    "\n",
    "           count += 1\n",
    "        print('It only took you',count,'attempts')\n",
    "        break\n",
    "    else:\n",
    "        print('Nope, try again!')\n",
    "\n"
   ]
  }
 ],
 "metadata": {
  "kernelspec": {
   "display_name": "Python 3",
   "language": "python",
   "name": "python3"
  },
  "language_info": {
   "codemirror_mode": {
    "name": "ipython",
    "version": 3
   },
   "file_extension": ".py",
   "mimetype": "text/x-python",
   "name": "python",
   "nbconvert_exporter": "python",
   "pygments_lexer": "ipython3",
   "version": "3.9.2"
  },
  "orig_nbformat": 4
 },
 "nbformat": 4,
 "nbformat_minor": 2
}
