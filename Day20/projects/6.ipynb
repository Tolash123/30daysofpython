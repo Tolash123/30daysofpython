{
 "cells": [
  {
   "cell_type": "code",
   "execution_count": 1,
   "metadata": {},
   "outputs": [
    {
     "name": "stdout",
     "output_type": "stream",
     "text": [
      "Fill in the blank lyrics!\n",
      "\n",
      "Never going to ---- you up.\n",
      "Try again\n",
      "Nope, try again!\n",
      "Try again\n",
      "Well done\n",
      "It only took you 2 attempts\n"
     ]
    },
    {
     "ename": "",
     "evalue": "",
     "output_type": "error",
     "traceback": [
      "\u001b[1;31mThe Kernel crashed while executing code in the the current cell or a previous cell. Please review the code in the cell(s) to identify a possible cause of the failure. Click <a href='https://aka.ms/vscodeJupyterKernelCrash'>here</a> for more info. View Jupyter <a href='command:jupyter.viewOutput'>log</a> for further details."
     ]
    }
   ],
   "source": [
    "# Challenge('Name the lyrics) \n",
    "print('Fill in the blank lyrics!')\n",
    "print()\n",
    "print('Never going to ---- you up.')\n",
    "count = 0\n",
    "while True:\n",
    "    n = input('Type in the blank lyric: ')\n",
    "    if n == 'give':\n",
    "        print('Well done')\n",
    "        break\n",
    "    elif n=='gat':\n",
    "        print('Try again')\n",
    "        count = count+1\n",
    "    elif n=='fed':\n",
    "        print('Try again')\n",
    "        count = count+1\n",
    "    elif n=='get':\n",
    "        print('Try again')\n",
    "        count = count+1\n",
    "    elif n=='gave':\n",
    "        print('Try again')\n",
    "        count = count+1\n",
    "        continue\n",
    "    else:\n",
    "        print('Nope, try again!')\n",
    "        exit()\n",
    "print('It only took you', count,'attempts')\n"
   ]
  },
  {
   "cell_type": "code",
   "execution_count": null,
   "metadata": {},
   "outputs": [],
   "source": [
    "# multiplayer game\n",
    "from getpass import getpass as input\n",
    "score1 = 0\n",
    "score2 = 0\n",
    "while True:\n",
    "  player1 = input('Enter R,P,S:')\n",
    "  player2 = input('Enter R,P,S:')\n",
    "  if player1 == player2:\n",
    "      print('Draw')\n",
    "      break\n",
    "  elif player1 == 'R' and player2 == 'S':  \n",
    "      print('Player 1 wins')\n",
    "      score1=score1+1\n",
    "  elif player1 == 'S' and player2 == 'R':\n",
    "      print('Player 2 wins')\n",
    "      score2 = score2 +1\n",
    "  elif player1 == 'P' and player2 == 'R':\n",
    "      print('Player 1 wins')\n",
    "      score1 = score2+1\n",
    "  elif player1 == 'R' and player2 == 'P':\n",
    "      print('Player 2 wins')\n",
    "      score2=score2+1\n",
    "  elif player1 == 'S' and player2 == 'P':\n",
    "      print('Player 1 wins')\n",
    "      score1= score1+1\n",
    "  elif player1 == 'P' and player2 == 'S':\n",
    "      print('Player 2 wins')\n",
    "      score2=score2+1\n",
    "      continue\n",
    "  else:\n",
    "    print('The game is over')\n",
    "    exit()\n",
    "    \n",
    "print('player1:', score1, 'player2:', score2)"
   ]
  },
  {
   "cell_type": "code",
   "execution_count": 1,
   "metadata": {},
   "outputs": [
    {
     "name": "stdout",
     "output_type": "stream",
     "text": [
      "Too high\n",
      "Too low\n",
      "Too high\n",
      "You are a genius\n"
     ]
    }
   ],
   "source": [
    "# Number guessing\n",
    "while True:\n",
    "  guess = int(input('Guess the number:'))\n",
    "  if guess == 42:\n",
    "    print('You are a genius')\n",
    "    break\n",
    "  elif guess > 42:\n",
    "    print('Too high')\n",
    "  elif guess <= 41:\n",
    "    print('Too low')\n",
    "    continue\n",
    "  else:\n",
    "    print('Finally')\n",
    "    exit()"
   ]
  },
  {
   "cell_type": "markdown",
   "metadata": {},
   "source": [
    "Create a loan calculator that shows how much money you owe for a loan of $1,000 with a 5% APR (APR is fancy for Annual Percentage Rate) over 10 years. This means each year the amount of money you owe will increase 5%. Figure out how much you owe altogether for 10 years?"
   ]
  },
  {
   "cell_type": "code",
   "execution_count": 13,
   "metadata": {},
   "outputs": [
    {
     "name": "stdout",
     "output_type": "stream",
     "text": [
      "0.05\n",
      "50.0\n",
      "The amount increment each year:  $ 50.0\n",
      "The amount increment each year:  $ 100.0\n",
      "The amount increment each year:  $ 150.0\n",
      "The amount increment each year:  $ 200.0\n",
      "The amount increment each year:  $ 250.0\n",
      "The amount increment each year:  $ 300.0\n",
      "The amount increment each year:  $ 350.0\n",
      "The amount increment each year:  $ 400.0\n",
      "The amount increment each year:  $ 450.0\n",
      "The amount increment each year:  $ 500.0\n"
     ]
    }
   ],
   "source": [
    "amount = 1000\n",
    "apr = 5/100\n",
    "d = apr\n",
    "print(d)\n",
    "cal = amount * apr\n",
    "print(cal)\n",
    "for i in range(1,11):\n",
    "    print('The amount increment each year: ','$',i*amount*apr)"
   ]
  },
  {
   "cell_type": "code",
   "execution_count": 17,
   "metadata": {},
   "outputs": [
    {
     "name": "stdout",
     "output_type": "stream",
     "text": [
      "Multiplication Table thirteen\n",
      "\n",
      "1 x 13 = 13\n",
      "2 x 13 = 26\n",
      "3 x 13 = 39\n",
      "4 x 13 = 52\n",
      "5 x 13 = 65\n",
      "6 x 13 = 78\n",
      "7 x 13 = 91\n",
      "8 x 13 = 104\n",
      "9 x 13 = 117\n",
      "10 x 13 = 130\n",
      "11 x 13 = 143\n",
      "12 x 13 = 156\n"
     ]
    }
   ],
   "source": [
    "print('Multiplication Table thirteen')\n",
    "print()\n",
    "for i in range(1,13):\n",
    "    print(i, 'x 13 =', i*13)"
   ]
  },
  {
   "cell_type": "code",
   "execution_count": 3,
   "metadata": {},
   "outputs": [
    {
     "name": "stdout",
     "output_type": "stream",
     "text": [
      "--- List Generator ---\n"
     ]
    },
    {
     "name": "stdout",
     "output_type": "stream",
     "text": [
      "100\n",
      "250\n",
      "400\n",
      "550\n",
      "700\n",
      "850\n",
      "1000\n",
      "1150\n",
      "1300\n",
      "1450\n",
      "1600\n",
      "1750\n",
      "1900\n"
     ]
    }
   ],
   "source": [
    "print(\"\"\"--- List Generator ---\"\"\")\n",
    "start = int(input('Enter a number to start with: '))\n",
    "end = int(input('Enter a number to end with: '))\n",
    "increment = int(input('Enter an increment for start and end: '))\n",
    "for i in range(start,end,increment):\n",
    "    print(i)"
   ]
  },
  {
   "cell_type": "markdown",
   "metadata": {},
   "source": [
    "#### Math Game\n",
    "\n",
    "Test your family and friends on their math knowlege\n"
   ]
  },
  {
   "cell_type": "code",
   "execution_count": null,
   "metadata": {},
   "outputs": [],
   "source": [
    "print(\"\"\"---Math Game---\"\"\")\n",
    "print()\n",
    "print('Welcome to the world of mathematics \\n Test your math knowledge')\n",
    "count = 0\n",
    "n = int(input('What is the sum of 25 and 30: '))\n",
    "if n == 55:\n",
    "    print('Correct', n)\n",
    "    count = count +1\n",
    "else:\n",
    "    print('Wrong!')\n",
    "    count = count\n",
    "    pass\n",
    "m = int(input('What is the square root of 64: '))\n",
    "if m == 8:\n",
    "    print('Correct!')\n",
    "    count = count+1\n",
    "else:\n",
    "    print('wrong answer')\n",
    "    count = count\n",
    "a = int(input('What is the product of 25 and 30: '))\n",
    "if a == 750:\n",
    "    print('Correct')\n",
    "    count = count +1\n",
    "else:\n",
    "    print('Wrong!')\n",
    "    count = count\n",
    "    pass\n",
    "b = int(input('What is the LCM of 12 and 24: '))\n",
    "if b == 24:\n",
    "    print('Correct!')\n",
    "    count = count+1\n",
    "else:\n",
    "    print('wrong answer')\n",
    "    count = count\n",
    "c = int(input('What is the sum of 200 and 1000: '))\n",
    "if c == 1200:\n",
    "    print('Correct')\n",
    "    count = count +1\n",
    "else:\n",
    "    print('Wrong!')\n",
    "    count = count\n",
    "    pass\n",
    "d = int(input('What is the square root of 400: '))\n",
    "if d == 20:\n",
    "    print('Correct!')\n",
    "    count = count+1\n",
    "else:\n",
    "    print('wrong answer')\n",
    "    count = count\n",
    "e = int(input('subtract 55 from 100: '))\n",
    "if e == 45:\n",
    "    print('Correct')\n",
    "    count = count +1\n",
    "else:\n",
    "    print('Wrong!')\n",
    "    count = count\n",
    "    pass\n",
    "f = int(input('What is 10 square: '))\n",
    "if f == 100:\n",
    "    print('Correct!')\n",
    "    count = count+1\n",
    "else:\n",
    "    print('wrong answer')\n",
    "    count = count\n",
    "g = int(input('What is the answer 13*13: '))\n",
    "if g == 169:\n",
    "    print('Correct')\n",
    "    count = count +1\n",
    "else:\n",
    "    print('Wrong!')\n",
    "    count = count\n",
    "    pass\n",
    "h = int(input('What is the H.C.F of 2 and 4: '))\n",
    "if h == 2:\n",
    "    print('Correct!')\n",
    "    count = count+1\n",
    "else:\n",
    "    print('wrong answer')\n",
    "    count = count\n",
    "print('Your score is: ', count, 'out of 10')"
   ]
  },
  {
   "cell_type": "code",
   "execution_count": null,
   "metadata": {},
   "outputs": [],
   "source": [
    "# Number guessing 2\n",
    "import random\n",
    "\n",
    "attempt = 1\n",
    "print('Totally Random One-Million-to-One')\n",
    "number = random.randint(1,1000000)\n",
    "while True:\n",
    "  guess = int(input('What is your guess:'))\n",
    "  if guess == number:\n",
    "    print('You are a genius')\n",
    "    break\n",
    "  elif guess > number:\n",
    "    print('Too high')\n",
    "    attempt = attempt + 1\n",
    "  elif guess < number:\n",
    "    print('Too low')\n",
    "    attempt = attempt + 1\n",
    "    continue\n",
    "  else:\n",
    "    print('Finally')\n",
    "    exit()\n",
    "\n",
    "print('It took you', attempt, 'guesses to get the number correct.')\n",
    "print('You are a genius!')\n",
    "\n",
    "# Note: you can play around with the code"
   ]
  }
 ],
 "metadata": {
  "kernelspec": {
   "display_name": "Python 3",
   "language": "python",
   "name": "python3"
  },
  "language_info": {
   "codemirror_mode": {
    "name": "ipython",
    "version": 3
   },
   "file_extension": ".py",
   "mimetype": "text/x-python",
   "name": "python",
   "nbconvert_exporter": "python",
   "pygments_lexer": "ipython3",
   "version": "3.9.2"
  },
  "orig_nbformat": 4
 },
 "nbformat": 4,
 "nbformat_minor": 2
}
